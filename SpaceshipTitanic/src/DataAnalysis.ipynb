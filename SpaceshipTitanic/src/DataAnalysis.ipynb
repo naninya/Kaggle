{
 "cells": [
  {
   "cell_type": "markdown",
   "id": "a17cf152",
   "metadata": {},
   "source": [
    "# Description\n",
    "Welcome to the year 2912, where your data science skills are needed to solve a cosmic mystery. We've received a transmission from four lightyears away and things aren't looking good.\n",
    "\n",
    "The Spaceship Titanic was an interstellar passenger liner launched a month ago. With almost 13,000 passengers on board, the vessel set out on its maiden voyage transporting emigrants from our solar system to three newly habitable exoplanets orbiting nearby stars.\n",
    "\n",
    "While rounding Alpha Centauri en route to its first destination—the torrid 55 Cancri E—the unwary Spaceship Titanic collided with a spacetime anomaly hidden within a dust cloud. Sadly, it met a similar fate as its namesake from 1000 years before. Though the ship stayed intact, almost half of the passengers were transported to an alternate dimension!\n",
    "\n",
    "![nn](../data/description/description.jpg)\n",
    "\n",
    "To help rescue crews and retrieve the lost passengers, you are challenged to predict which passengers were transported by the anomaly using records recovered from the spaceship’s damaged computer system.\n",
    "\n",
    "Help save them and change history!\n",
    "\n",
    "Acknowledgments\n",
    "Photos by Joel Filipe, Richard Gatley and ActionVance on Unsplash."
   ]
  },
  {
   "cell_type": "markdown",
   "id": "90484b4c",
   "metadata": {},
   "source": [
    "# Import"
   ]
  },
  {
   "cell_type": "code",
   "execution_count": 1,
   "id": "71078986",
   "metadata": {},
   "outputs": [],
   "source": [
    "import os\n",
    "import pandas as pd\n",
    "import numpy as np\n",
    "import matplotlib.pyplot as plt"
   ]
  },
  {
   "cell_type": "markdown",
   "id": "10820e98",
   "metadata": {},
   "source": [
    "# Define base directory"
   ]
  },
  {
   "cell_type": "code",
   "execution_count": 2,
   "id": "a843f009",
   "metadata": {},
   "outputs": [],
   "source": [
    "os.chdir(\"../\")"
   ]
  },
  {
   "cell_type": "markdown",
   "id": "8d14e90d",
   "metadata": {},
   "source": [
    "# File List"
   ]
  },
  {
   "cell_type": "code",
   "execution_count": 3,
   "id": "291cf8cd",
   "metadata": {},
   "outputs": [
    {
     "name": "stdout",
     "output_type": "stream",
     "text": [
      "Data List\n",
      "['description', 'sample_submission.csv', 'test.csv', 'train.csv']\n"
     ]
    }
   ],
   "source": [
    "print(\"Data List\")\n",
    "print(os.listdir(\"data\"))"
   ]
  },
  {
   "cell_type": "markdown",
   "id": "480607c7",
   "metadata": {},
   "source": [
    "# Load dataset"
   ]
  },
  {
   "cell_type": "code",
   "execution_count": 4,
   "id": "cbc2729c",
   "metadata": {},
   "outputs": [
    {
     "name": "stdout",
     "output_type": "stream",
     "text": [
      "train shape:(8693, 14)\n",
      "test shape:(4277, 13)\n",
      "sample_submission shape:(4277, 2)\n"
     ]
    }
   ],
   "source": [
    "train = pd.read_csv(\"data/train.csv\")\n",
    "test = pd.read_csv(\"data/test.csv\")\n",
    "sample_submission = pd.read_csv(\"data/sample_submission.csv\")\n",
    "\n",
    "print(f\"train shape:{train.shape}\")\n",
    "print(f\"test shape:{test.shape}\")\n",
    "print(f\"sample_submission shape:{sample_submission.shape}\")"
   ]
  },
  {
   "cell_type": "markdown",
   "id": "91ad9ca4",
   "metadata": {},
   "source": [
    "## Null check"
   ]
  },
  {
   "cell_type": "code",
   "execution_count": 5,
   "id": "85c516b8",
   "metadata": {},
   "outputs": [
    {
     "name": "stdout",
     "output_type": "stream",
     "text": [
      "======train======\n",
      "PassengerId       0\n",
      "HomePlanet      201\n",
      "CryoSleep       217\n",
      "Cabin           199\n",
      "Destination     182\n",
      "Age             179\n",
      "VIP             203\n",
      "RoomService     181\n",
      "FoodCourt       183\n",
      "ShoppingMall    208\n",
      "Spa             183\n",
      "VRDeck          188\n",
      "Name            200\n",
      "Transported       0\n",
      "dtype: int64\n",
      "======test======\n",
      "PassengerId       0\n",
      "HomePlanet       87\n",
      "CryoSleep        93\n",
      "Cabin           100\n",
      "Destination      92\n",
      "Age              91\n",
      "VIP              93\n",
      "RoomService      82\n",
      "FoodCourt       106\n",
      "ShoppingMall     98\n",
      "Spa             101\n",
      "VRDeck           80\n",
      "Name             94\n",
      "dtype: int64\n",
      "======sample_submission======\n",
      "PassengerId    0\n",
      "Transported    0\n",
      "dtype: int64\n"
     ]
    }
   ],
   "source": [
    "print(\"======train======\")\n",
    "print(train.isna().sum())\n",
    "print(\"======test======\")\n",
    "print(test.isna().sum())\n",
    "print(\"======sample_submission======\")\n",
    "print(sample_submission.isna().sum())"
   ]
  },
  {
   "cell_type": "markdown",
   "id": "4fb8044d",
   "metadata": {},
   "source": [
    "# Check ID duplications"
   ]
  },
  {
   "cell_type": "code",
   "execution_count": 6,
   "id": "1441c24c",
   "metadata": {},
   "outputs": [
    {
     "name": "stdout",
     "output_type": "stream",
     "text": [
      "train id unique num:8693\n",
      "test id unique num:4277\n",
      "sum of both = 12970\n",
      "all id num:12970\n"
     ]
    }
   ],
   "source": [
    "all_ids = set(train[\"PassengerId\"])\n",
    "all_ids |= set(test[\"PassengerId\"])\n",
    "train_id_num = train[\"PassengerId\"].shape[0]\n",
    "test_id_num = test[\"PassengerId\"].shape[0]\n",
    "print(f\"train id unique num:{train_id_num}\")\n",
    "print(f\"test id unique num:{test_id_num}\")\n",
    "print(f\"sum of both = {train_id_num + test_id_num}\")\n",
    "print(f\"all id num:{len(all_ids)}\")\n",
    "## --> no duplicated number"
   ]
  },
  {
   "cell_type": "code",
   "execution_count": 7,
   "id": "1b40692c",
   "metadata": {},
   "outputs": [
    {
     "name": "stdout",
     "output_type": "stream",
     "text": [
      "The number of <test id != sample submission>\n"
     ]
    },
    {
     "data": {
      "text/plain": [
       "0"
      ]
     },
     "execution_count": 7,
     "metadata": {},
     "output_type": "execute_result"
    }
   ],
   "source": [
    "print(\"The number of <test id != sample submission>\")\n",
    "(sample_submission[\"PassengerId\"] != test[\"PassengerId\"]).sum()"
   ]
  },
  {
   "cell_type": "markdown",
   "id": "e25b73d0",
   "metadata": {},
   "source": [
    "# Feature Analysis"
   ]
  },
  {
   "cell_type": "code",
   "execution_count": 8,
   "id": "92de5882",
   "metadata": {},
   "outputs": [
    {
     "name": "stdout",
     "output_type": "stream",
     "text": [
      "All data num --> 12970\n"
     ]
    },
    {
     "data": {
      "text/plain": [
       "PassengerId       0\n",
       "HomePlanet      288\n",
       "CryoSleep       310\n",
       "Cabin           299\n",
       "Destination     274\n",
       "Age             270\n",
       "VIP             296\n",
       "RoomService     263\n",
       "FoodCourt       289\n",
       "ShoppingMall    306\n",
       "Spa             284\n",
       "VRDeck          268\n",
       "Name            294\n",
       "dtype: int64"
      ]
     },
     "execution_count": 8,
     "metadata": {},
     "output_type": "execute_result"
    }
   ],
   "source": [
    "# merge data\n",
    "all_dataset = pd.concat([train.drop(\"Transported\", axis=1), test])\n",
    "print(\"All data num -->\", all_dataset.shape[0])\n",
    "all_dataset.isnull().sum(axis=0)"
   ]
  },
  {
   "cell_type": "markdown",
   "id": "5853c1de",
   "metadata": {},
   "source": [
    "# Define data types"
   ]
  },
  {
   "cell_type": "code",
   "execution_count": 9,
   "id": "d49fb09e",
   "metadata": {},
   "outputs": [
    {
     "name": "stdout",
     "output_type": "stream",
     "text": [
      "===============Changed=================\n",
      "object    -->    object\n",
      "object    -->    category\n",
      "object    -->    boolean\n",
      "object    -->    category\n",
      "object    -->    category\n",
      "float64    -->    float64\n",
      "object    -->    boolean\n",
      "float64    -->    float64\n",
      "float64    -->    float64\n",
      "float64    -->    float64\n",
      "float64    -->    float64\n",
      "float64    -->    float64\n",
      "object    -->    category\n"
     ]
    }
   ],
   "source": [
    "old_dtypes = all_dataset.dtypes\n",
    "\n",
    "dtype_dict = {\n",
    "    \"PassengerId\": \"object\",\n",
    "    \"HomePlanet\": \"category\",\n",
    "    \"CryoSleep\": \"boolean\",\n",
    "    \"Cabin\": \"category\",\n",
    "    \"Destination\": \"category\",\n",
    "    \"Age\":\"float\",\n",
    "    \"VIP\": \"boolean\",\n",
    "    \"RoomService\": \"float\",\n",
    "    \"FoodCourt\": \"float\",\n",
    "    \"ShoppingMall\": \"float\",\n",
    "    \"Spa\": \"float\",\n",
    "    \"VRDeck\": \"float\",\n",
    "    \"Name\": \"category\",    \n",
    "}\n",
    "all_dataset = all_dataset.astype(dtype_dict)\n",
    "new_dtypes = all_dataset.dtypes\n",
    "print(\"===============Changed=================\")\n",
    "for _old, _new in zip(old_dtypes, new_dtypes):\n",
    "    print(f\"{_old}    -->    {_new}\")"
   ]
  },
  {
   "cell_type": "markdown",
   "id": "82b9bbd3",
   "metadata": {},
   "source": [
    "# Plotting categorical features\n"
   ]
  },
  {
   "cell_type": "code",
   "execution_count": 10,
   "id": "37c76211",
   "metadata": {},
   "outputs": [
    {
     "name": "stdout",
     "output_type": "stream",
     "text": [
      "Cabin has too many features(9825)!!\n",
      "Name has too many features(12629)!!\n"
     ]
    },
    {
     "data": {
      "image/png": "[encoded data removed]",
      "text/plain": [
       "<Figure size 1296x1296 with 10 Axes>"
      ]
     },
     "metadata": {
      "needs_background": "light"
     },
     "output_type": "display_data"
    }
   ],
   "source": [
    "check_feature_num = all_dataset.shape[1]\n",
    "row_num = 4\n",
    "col_num = int(check_feature_num / row_num)\n",
    "ax_num = 0\n",
    "fig = plt.figure(figsize=(18, 6 * col_num))\n",
    "plt.subplots_adjust(hspace=0.5, wspace=0.5)\n",
    "for index, col in enumerate(all_dataset.columns):\n",
    "    if all_dataset[col].dtype == \"category\" or all_dataset[col].dtype == \"boolean\":\n",
    "        num_of_category = all_dataset[col].value_counts().shape[0]\n",
    "        if num_of_category > 10:\n",
    "            print(f\"{col} has too many features({num_of_category})!!\")\n",
    "            continue\n",
    "        ax = fig.add_subplot(col_num, row_num, ax_num + 1)\n",
    "        ax.set_title(col)\n",
    "        all_dataset[col].value_counts().plot(kind=\"bar\", ax=ax)\n",
    "        ax_num += 1\n",
    "    elif all_dataset[col].dtype == \"float\":\n",
    "        ax = fig.add_subplot(col_num, row_num, ax_num + 1)\n",
    "        ax.set_title(col)\n",
    "        all_dataset[col].plot(kind=\"hist\", ax=ax)\n",
    "        ax_num += 1\n",
    "    \n",
    "plt.show()"
   ]
  },
  {
   "cell_type": "markdown",
   "id": "e4e123ef",
   "metadata": {},
   "source": [
    "# Target distributions"
   ]
  },
  {
   "cell_type": "code",
   "execution_count": 11,
   "id": "947591f8",
   "metadata": {},
   "outputs": [
    {
     "data": {
      "image/png": "[encoded data removed]",
      "text/plain": [
       "<Figure size 432x288 with 1 Axes>"
      ]
     },
     "metadata": {},
     "output_type": "display_data"
    }
   ],
   "source": [
    "train[\"Transported\"].value_counts().plot(kind=\"pie\")\n",
    "plt.show()"
   ]
  }
 ],
 "metadata": {
  "kernelspec": {
   "display_name": "Python 3 (ipykernel)",
   "language": "python",
   "name": "python3"
  },
  "language_info": {
   "codemirror_mode": {
    "name": "ipython",
    "version": 3
   },
   "file_extension": ".py",
   "mimetype": "text/x-python",
   "name": "python",
   "nbconvert_exporter": "python",
   "pygments_lexer": "ipython3",
   "version": "3.7.9"
  }
 },
 "nbformat": 4,
 "nbformat_minor": 5
}
